{
 "cells": [
  {
   "cell_type": "code",
   "execution_count": 2,
   "id": "8edd95da",
   "metadata": {},
   "outputs": [
    {
     "name": "stderr",
     "output_type": "stream",
     "text": [
      "[NeMo W 2022-06-29 09:41:50 optimizers:55] Apex was not found. Using the lamb or fused_adam optimizer will error out.\n",
      "[NeMo W 2022-06-29 09:41:50 experimental:28] Module <class 'nemo.collections.nlp.data.language_modeling.megatron.megatron_batch_samplers.MegatronPretrainingRandomBatchSampler'> is experimental, not ready for production and is not fully supported. Use at your own risk.\n"
     ]
    }
   ],
   "source": [
    "import pynini\n",
    "import nemo_text_processing\n",
    "from pynini.lib import pynutil\n",
    "\n",
    "from nemo_text_processing.text_normalization.en.graph_utils import GraphFst, NEMO_DIGIT, delete_space, NEMO_SIGMA, NEMO_NOT_QUOTE, delete_extra_space, NEMO_NON_BREAKING_SPACE\n",
    "from nemo_text_processing.text_normalization.normalize import Normalizer\n",
    "\n",
    "from nemo_text_processing.inverse_text_normalization.zh.taggers.cardinal import CardinalFst\n",
    "from nemo_text_processing.inverse_text_normalization.zh.taggers.decimal import DecimalFst\n",
    "from nemo_text_processing.inverse_text_normalization.zh.taggers.money import MoneyFst\n",
    "from nemo_text_processing.inverse_text_normalization.zh.taggers.ordinal import OrdinalFst\n",
    "from nemo_text_processing.inverse_text_normalization.zh.taggers.punctuation import PunctuationFst\n",
    "from nemo_text_processing.inverse_text_normalization.zh.taggers.time import TimeFst\n",
    "from nemo_text_processing.inverse_text_normalization.zh.taggers.whitelist import WhiteListFst\n",
    "from nemo_text_processing.inverse_text_normalization.zh.taggers.word import WordFst\n",
    "from nemo_text_processing.inverse_text_normalization.zh.verbalizers.cardinal import CardinalFst\n",
    "from nemo_text_processing.inverse_text_normalization.zh.verbalizers.decimal import DecimalFst\n",
    "from nemo_text_processing.inverse_text_normalization.zh.verbalizers.money import MoneyFst\n",
    "from nemo_text_processing.inverse_text_normalization.zh.verbalizers.ordinal import OrdinalFst\n",
    "from nemo_text_processing.inverse_text_normalization.zh.verbalizers.time import TimeFst\n",
    "from nemo_text_processing.inverse_text_normalization.zh.verbalizers.whitelist import WhiteListFst\n",
    "from nemo_text_processing.inverse_text_normalization.zh.verbalizers.word import WordFst"
   ]
  },
  {
   "cell_type": "code",
   "execution_count": 3,
   "id": "13f2e3b7",
   "metadata": {},
   "outputs": [],
   "source": [
    "def apply_fst(text,fst):#applies this function for test purposes: apply_fst(\"the text\",the fst_you_built)\n",
    "    try:\n",
    "        print(pynini.shortestpath(text @fst).string())\n",
    "    except:\n",
    "        print(f\"Error: No valid output with given input: ' {text}'\")"
   ]
  },
  {
   "cell_type": "code",
   "execution_count": 4,
   "id": "01aea81e",
   "metadata": {},
   "outputs": [],
   "source": [
    "class CardinalFst(GraphFst):\n",
    "    def __init__(self):\n",
    "        super().__init__(name=\"cardinal\", kind=\"classify\") \n",
    "        \n",
    "        #Cardinal gramamrs\n",
    "        #Grammar for cardinals from 0-99\n",
    "        zero = pynini.string_map([\"零\",\"0\"])\n",
    "        digits = pynini.string_map([(\"一\",\"1\"),(\"幺\",\"1\"),(\"壹\",\"1\"),\n",
    "                         (\"二\",\"2\"),(\"两\",\"2\"),(\"兩\",\"2\"),(\"貳\",\"2\"),\n",
    "                         (\"三\",\"3\"),(\"參\",\"3\"),\n",
    "                         (\"四\",\"4\"),(\"肆\",\"4\"),\n",
    "                         (\"五\",\"5\"),(\"伍\",\"5\"),\n",
    "                         (\"六\",\"6\"),(\"陸\",\"6\"),\n",
    "                         (\"七\",\"7\"),(\"柒\",\"7\"),\n",
    "                         (\"八\",\"8\"),(\"捌\",\"8\"),\n",
    "                         (\"九\",\"9\"),(\"玖\",\"9\")])\n",
    "        \n",
    "        graph_digits = digits | pynutil.insert(\"0\")\n",
    "        tens = pynini.string_map([(\"十\",\"1\"),(\"拾\",\"1\")])\n",
    "        graph_tens = tens+graph_digits\n",
    "        graph_all = graph_tens | zero   #leading zero issue solved later\n",
    "        tens = pynini.string_map([(\"十\",\"1\"),(\"拾\",\"1\"),(\"一十\",\"1\"),(\"壹拾\",\"1\"),\n",
    "                        (\"二十\",\"2\"),(\"貳拾\",\"2\"),\n",
    "                        (\"三十\",\"3\"),(\"叁拾\",\"3\"),\n",
    "                        (\"四十\",\"4\"),(\"肆拾\",\"4\"),\n",
    "                        (\"五十\",\"5\"),(\"伍拾\",\"5\"),\n",
    "                        (\"六十\",\"6\"),(\"陸拾\",\"6\"),\n",
    "                        (\"七十\",\"7\"),(\"柒拾\",\"7\"),\n",
    "                        (\"八十\",\"8\"),(\"捌拾\",\"8\"),\n",
    "                        (\"九十\",\"9\"),(\"玖拾\",\"9\")])\n",
    "        tens = tens | pynutil.insert(\"0\") \n",
    "        graph_tens = tens + graph_digits\n",
    "        graph_all = graph_tens | zero\n",
    "        \n",
    "        #Grammar for cardinals from 100-999\n",
    "        delete_hundreds = pynutil.delete(\"百\") | pynutil.delete(\"佰\")\n",
    "        delete_tens = pynutil.delete(\"十\") | pynutil.delete(\"拾\")\n",
    "        delete_zero = pynutil.delete(\"零\")\n",
    "        graph_hundreds = ((graph_digits + delete_hundreds + graph_all) | (graph_digits + delete_hundreds + delete_zero + graph_all)) | pynutil.insert(\"000\")\n",
    "        \n",
    "        #Grammars for cardinals from 1000-9999\n",
    "        delete_thousands = pynutil.delete(\"千\") | pynutil.delete(\"仟\")\n",
    "        graph_thousands = ((graph_digits + delete_thousands + graph_hundreds) | (graph_digits + delete_thousands + delete_zero + pynutil.insert(\"0\") + graph_all)) | pynutil.insert(\"0000\")\n",
    "        \n",
    "        #Grammars for cardinals from 10000-99999\n",
    "        delete_ten_thousands = pynutil.delete(\"萬\") | pynutil.delete(\"万\")\n",
    "        graph_ten_thousands = ((graph_digits + delete_ten_thousands + graph_thousands) | (graph_digits + delete_ten_thousands + delete_zero + pynutil.insert(\"0\") + graph_hundreds) | (graph_digits + delete_ten_thousands + delete_zero + pynutil.insert(\"00\") + graph_all))| pynutil.insert(\"00000\")\n",
    "        \n",
    "        #Grammer for 100000-999999 (hundred thousands-十万)\n",
    "        graph_hundred_thousands =  (tens + graph_ten_thousands) | pynutil.insert(\"000000\")\n",
    "        \n",
    "        #grammar for millions 百万\n",
    "        graph_millions = ((graph_hundreds + delete_ten_thousands + graph_thousands) |(graph_hundreds + delete_ten_thousands + delete_zero + pynutil.insert(\"000\") + graph_digits) | (graph_hundreds + delete_ten_thousands + delete_zero + pynutil.insert(\"00\") + graph_all) |(graph_hundreds + delete_ten_thousands + delete_zero + pynutil.insert(\"0\") + graph_hundreds)) | pynutil.insert(\"0000000\") \n",
    "        \n",
    "        #grammar for ten millions 千万\n",
    "        graph_ten_millions = ((graph_thousands + delete_ten_thousands + graph_thousands) | (graph_thousands + delete_ten_thousands + delete_zero + pynutil.insert(\"00\") + graph_all) | (graph_thousands + delete_ten_thousands + delete_zero + pynutil.insert(\"0\") + graph_hundreds)) | pynutil.insert(\"00000000\")\n",
    "        \n",
    "        #grammar for hundred millions 亿\n",
    "        delete_hundred_millions = pynutil.delete(\"亿\") | pynutil.delete (\"億\")\n",
    "        graph_hundred_millions = ((graph_digits + delete_hundred_millions + graph_ten_millions) | (graph_digits + delete_hundred_millions + delete_zero + pynutil.insert(\"0\") + graph_millions) | (graph_digits + delete_hundred_millions + delete_zero + pynutil.insert(\"00\") + graph_hundred_thousands)) | pynutil.insert(\"000000000\")\n",
    "        \n",
    "        #grammars for billions 十億\n",
    "        graph_billions = ((tens + delete_hundred_millions + graph_hundred_millions) | (graph_all + delete_hundred_millions + graph_ten_millions) | (graph_all + delete_hundred_millions +delete_zero + pynutil.insert(\"0\") + graph_millions) | (graph_all + delete_hundred_millions +delete_zero + pynutil.insert(\"00\") + graph_hundred_thousands) | (graph_all + delete_hundred_millions +delete_zero + pynutil.insert(\"000\") + graph_ten_thousands) | (graph_all + delete_hundred_millions +delete_zero + pynutil.insert(\"0000\") + graph_thousands) | (graph_all + delete_hundred_millions +delete_zero + pynutil.insert(\"00000\") + graph_hundreds) | (graph_all + delete_hundred_millions +delete_zero + pynutil.insert(\"000000\") + graph_all)) | pynutil.insert(\"0000000000\")\n",
    "        \n",
    "        #grammars for ten billions 百億\n",
    "        graph_ten_billions = (graph_hundreds + delete_hundred_millions + graph_ten_millions) | (graph_hundreds + delete_hundred_millions + delete_zero + pynutil.insert(\"0\") + graph_millions) | (graph_hundreds + delete_hundred_millions + delete_zero + pynutil.insert(\"00\") + graph_hundred_thousands)  \n",
    "        \n",
    "        #grammar for hundred millions 千億\n",
    "        graph_hundred_billions = (graph_thousands + delete_hundred_millions + graph_ten_millions) | (graph_thousands + delete_hundred_millions + delete_zero + pynutil.insert(\"0\") + graph_millions) | (graph_thousands + delete_hundred_millions + delete_zero + pynutil.insert(\"00\") + graph_hundred_thousands)\n",
    "        \n",
    "        #combine all the graphs\n",
    "        graph = pynini.union(graph_hundred_billions, graph_ten_billions, graph_billions, graph_hundred_millions, graph_ten_millions, graph_millions, graph_hundred_thousands, graph_ten_thousands, graph_thousands, graph_hundreds, graph_all, zero)\n",
    "        \n",
    "        #Formatting grammar\n",
    "        #Removing leading zero (when there is a zero infront of a non-zero digit, e.g., 09,08)\n",
    "        delete_leading_zeros = pynutil.delete(pynini.closure(\"0\")) #delete \"0\" under closure == regex * operator\n",
    "        stop_at_non_zero = pynini.difference(NEMO_DIGIT,\"0\") #creates a graph that accepts all input-outputs from NEMO_DGIT except \"0\"\n",
    "        rest_of_cardinal = pynini.closure(NEMO_DIGIT) #accepts all digits that may follow\n",
    "        clean_cardinal = delete_leading_zeros + stop_at_non_zero + rest_of_cardinal\n",
    "        clean_cardinal = clean_cardinal | \"0\" #Allow the existence of a \"0\"\n",
    "        graph =  graph @ clean_cardinal\n",
    "        \n",
    "        #Token insertion\n",
    "        optional_minus_graph = pynini.closure(pynutil.insert(\"negative: \") + pynini.cross(\"负\", \"\\\"-\\\"\") + \" \", 0, 1) \n",
    "        final_graph = optional_minus_graph + pynutil.insert(\"integer: \\\"\") + graph + pynutil.insert(\"\\\"\")\n",
    "        final_graph = self.add_tokens(final_graph)\n",
    "        self.fst = final_graph\n",
    "        "
   ]
  },
  {
   "cell_type": "code",
   "execution_count": 7,
   "id": "d937e988",
   "metadata": {
    "scrolled": true
   },
   "outputs": [
    {
     "name": "stdout",
     "output_type": "stream",
     "text": [
      "cardinal { integer: \"100000000\" }\n"
     ]
    }
   ],
   "source": [
    "cardinal = CardinalFst().fst\n",
    "exmaple = \"一亿\"\n",
    "apply_fst(exmaple,cardinal)"
   ]
  },
  {
   "cell_type": "code",
   "execution_count": null,
   "id": "c45fd11e",
   "metadata": {},
   "outputs": [],
   "source": []
  }
 ],
 "metadata": {
  "kernelspec": {
   "display_name": "Python 3 (ipykernel)",
   "language": "python",
   "name": "python3"
  },
  "language_info": {
   "codemirror_mode": {
    "name": "ipython",
    "version": 3
   },
   "file_extension": ".py",
   "mimetype": "text/x-python",
   "name": "python",
   "nbconvert_exporter": "python",
   "pygments_lexer": "ipython3",
   "version": "3.7.12"
  }
 },
 "nbformat": 4,
 "nbformat_minor": 5
}
